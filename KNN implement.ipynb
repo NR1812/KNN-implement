{
 "cells": [
  {
   "cell_type": "code",
   "execution_count": 1,
   "id": "24b12126",
   "metadata": {},
   "outputs": [],
   "source": [
    "import pandas as pd\n",
    "import numpy as np\n",
    "import math \n",
    "import statistics"
   ]
  },
  {
   "cell_type": "code",
   "execution_count": 2,
   "id": "97d4ced5",
   "metadata": {},
   "outputs": [],
   "source": [
    "def load_dataset(file_name, category_col_name):\n",
    "    X = pd.read_csv(file_name)\n",
    "    y=X[category_col_name]\n",
    "    X.drop(columns=category_col_name,axis=1,inplace=True)\n",
    "    return X, y"
   ]
  },
  {
   "cell_type": "code",
   "execution_count": 3,
   "id": "146ebc56",
   "metadata": {},
   "outputs": [],
   "source": [
    "def scale_fit_transform(X_train):\n",
    "    X_train_scaled = X_train.copy().astype(float)\n",
    "    scaling_info=pd.DataFrame()\n",
    "    scaling_info['min'] = X_train_scaled.min(axis=0)\n",
    "    scaling_info['max'] = X_train_scaled.max(axis=0)\n",
    "    for col in X_train_scaled.columns:\n",
    "        for i in range(len(X_train_scaled.index)):\n",
    "            X_train_scaled[col][i]=((2*(X_train_scaled[col][i]-scaling_info[\"min\"][col]))\n",
    "                                    /(scaling_info[\"max\"][col]-scaling_info[\"min\"][col])-1)\n",
    "    return scaling_info, X_train_scaled"
   ]
  },
  {
   "cell_type": "code",
   "execution_count": 4,
   "id": "8b5c2758",
   "metadata": {},
   "outputs": [],
   "source": [
    "def scale_transform_for_test(trained_scaling_info,  X_test):\n",
    "    X_test_scaled = X_test.copy().astype(float)\n",
    "    for col in X_test_scaled.columns:\n",
    "        for i in (X_test_scaled.index):\n",
    "            X_test_scaled[col][i]=((2*(X_test_scaled[col][i]-trained_scaling_info[\"min\"][col]))/(trained_scaling_info[\"max\"][col]-trained_scaling_info[\"min\"][col])-1)\n",
    "    return X_test_scaled"
   ]
  },
  {
   "cell_type": "code",
   "execution_count": 2,
   "id": "491b83ec",
   "metadata": {},
   "outputs": [],
   "source": [
    "def calc_distance(X_test,X_train):\n",
    "    df_dist = pd.DataFrame(0,columns=X_train.index,index=X_test.index).astype(float)\n",
    "    \n",
    "    for i in X_train.index:\n",
    "        for j in X_test.index:\n",
    "            for col in X_train.columns:\n",
    "                temp = X_test[col][j] - X_train[col][i]\n",
    "                if temp < 0:\n",
    "                    temp=temp*(-1)\n",
    "                df_dist[i][j] = temp + df_dist[i][j]\n",
    "    return df_dist"
   ]
  },
  {
   "cell_type": "code",
   "execution_count": 6,
   "id": "abd7f752",
   "metadata": {},
   "outputs": [],
   "source": [
    "def predict(X_test, X_train, y_train, k):\n",
    "    y_predicted = pd.Series(index=[80,81,82,83,84,85,86,87,88,89,90,91,92,93,94,95,96,97,98,99],dtype='float64')\n",
    "    dist_dataframe = calc_distance(X_test,X_train)\n",
    "    neighbors={}\n",
    "    \n",
    "    \n",
    "    for i in dist_dataframe.index:## makeing dict\n",
    "        temp={i:[]}\n",
    "        neighbors.update(temp)\n",
    "    \n",
    "    for i in dist_dataframe.index:## adding neighbors to the dict\n",
    "        sortedRowIndexs = dist_dataframe.loc[i].sort_values().index\n",
    "        for n in range(k):\n",
    "            neighbors[i].append(sortedRowIndexs[n])\n",
    "    \n",
    "    for i in neighbors: # check the most common type\n",
    "        count=[]\n",
    "        for n in range(k):\n",
    "            count.append(y_train[neighbors.get(i)[n]])\n",
    "            y_predicted[i]=max(count)\n",
    "       \n",
    "    return y_predicted.astype(int)"
   ]
  },
  {
   "cell_type": "code",
   "execution_count": 7,
   "id": "b5f71db2",
   "metadata": {},
   "outputs": [],
   "source": [
    "def eval_performance(y_predicted,y_test):\n",
    "    TP=FP=TN=FN=0\n",
    "    for i in y_test.index:\n",
    "        if y_predicted[i]==1 and y_test[i]==1:\n",
    "            TP=TP+1\n",
    "        elif y_predicted[i]==1 and y_test[i]==0:\n",
    "            FP=FP+1\n",
    "        elif y_predicted[i]==0 and y_test[i]==0:\n",
    "            TN=TN+1\n",
    "        elif y_predicted[i]==0 and y_test[i]==1:\n",
    "            FN=FN+1\n",
    "              \n",
    "    evaluate_value=(FP+FN)/len(y_test)\n",
    "    return evaluate_value"
   ]
  },
  {
   "cell_type": "code",
   "execution_count": 1,
   "id": "56870fd2",
   "metadata": {},
   "outputs": [],
   "source": [
    "file_name = '/Users/noamrippa/Assignment2_KNN/Students-Performance_scaled_100.csv'\n",
    "y_col     = 'category'\n"
   ]
  },
  {
   "cell_type": "code",
   "execution_count": null,
   "id": "819f608a",
   "metadata": {},
   "outputs": [],
   "source": []
  }
 ],
 "metadata": {
  "kernelspec": {
   "display_name": "Python 3 (ipykernel)",
   "language": "python",
   "name": "python3"
  },
  "language_info": {
   "codemirror_mode": {
    "name": "ipython",
    "version": 3
   },
   "file_extension": ".py",
   "mimetype": "text/x-python",
   "name": "python",
   "nbconvert_exporter": "python",
   "pygments_lexer": "ipython3",
   "version": "3.9.7"
  }
 },
 "nbformat": 4,
 "nbformat_minor": 5
}
